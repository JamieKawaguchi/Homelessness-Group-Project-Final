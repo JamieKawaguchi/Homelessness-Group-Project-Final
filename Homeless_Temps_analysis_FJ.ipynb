{
 "cells": [
  {
   "cell_type": "markdown",
   "id": "8832cfda",
   "metadata": {},
   "source": [
    "# <center> Analysis of Average State Temperature (F) and Homeless Population\n",
    "    This analysis aims to investigate the potential relationship between the average temperature of a given state within the US and the homeless population, per capita, of the corresponding state."
   ]
  },
  {
   "cell_type": "code",
   "execution_count": 1,
   "id": "4e9c669a",
   "metadata": {},
   "outputs": [
    {
     "ename": "ModuleNotFoundError",
     "evalue": "No module named 'config'",
     "output_type": "error",
     "traceback": [
      "\u001b[1;31m---------------------------------------------------------------------------\u001b[0m",
      "\u001b[1;31mModuleNotFoundError\u001b[0m                       Traceback (most recent call last)",
      "Cell \u001b[1;32mIn[1], line 14\u001b[0m\n\u001b[0;32m     12\u001b[0m \u001b[38;5;28;01mimport\u001b[39;00m \u001b[38;5;21;01mnumpy\u001b[39;00m \u001b[38;5;28;01mas\u001b[39;00m \u001b[38;5;21;01mnp\u001b[39;00m\n\u001b[0;32m     13\u001b[0m \u001b[38;5;66;03m#API\u001b[39;00m\n\u001b[1;32m---> 14\u001b[0m \u001b[38;5;28;01mfrom\u001b[39;00m \u001b[38;5;21;01mconfig\u001b[39;00m \u001b[38;5;28;01mimport\u001b[39;00m ncdc_api\n\u001b[0;32m     15\u001b[0m headers \u001b[38;5;241m=\u001b[39m {\u001b[38;5;124m\"\u001b[39m\u001b[38;5;124mtoken\u001b[39m\u001b[38;5;124m\"\u001b[39m:ncdc_api}\n",
      "\u001b[1;31mModuleNotFoundError\u001b[0m: No module named 'config'"
     ]
    }
   ],
   "source": [
    "#%pwd\n",
    "#set dependancies\n",
    "import pandas as pd\n",
    "import matplotlib.pyplot as plt\n",
    "import scipy.stats as st\n",
    "import json\n",
    "from datetime import datetime\n",
    "import time\n",
    "import requests\n",
    "from concurrent.futures import ThreadPoolExecutor\n",
    "from scipy.stats import linregress\n",
    "import numpy as np\n",
    "#API\n",
    "from config import ncdc_api\n",
    "headers = {\"token\":ncdc_api} #token from https://www.ncdc.noaa.gov/cdo-web/token"
   ]
  },
  {
   "cell_type": "code",
   "execution_count": null,
   "id": "adc9d863",
   "metadata": {},
   "outputs": [],
   "source": [
    "#paths to csv files\n",
    "homeless_data = (\"Homeless Population by State.csv\")\n",
    "sheltered_data = (\"Sheltered Homeless Population.csv\")\n",
    "severe_weather_data = (\"Severe Weather Data.csv\")\n",
    "\n",
    "#read csv files\n",
    "homeless_data = pd.read_csv(homeless_data)\n",
    "sheltered_data = pd.read_csv(sheltered_data)\n",
    "severe_weather_data = pd.read_csv(severe_weather_data)"
   ]
  },
  {
   "cell_type": "markdown",
   "id": "ea94d194",
   "metadata": {},
   "source": [
    "Original Code<br>\n",
    "    Pulling data with this original code has approximately a 50/50 chance of success. While it does work, a more efficient method for acquiring the requested data was sought after. "
   ]
  },
  {
   "cell_type": "code",
   "execution_count": null,
   "id": "6cbc955a",
   "metadata": {
    "scrolled": true
   },
   "outputs": [],
   "source": [
    "'''\n",
    "#get a list of states and their ids\n",
    "url=\"https://www.ncei.noaa.gov/cdo-web/api/v2/locations?locationcategoryid=ST&limit=52\"\n",
    "r = requests.get(url, \"dataset\", headers = headers).text\n",
    "states = json.loads(r) \n",
    "\n",
    "#make an api call to get temperature average from Summary of the Year dataset for every station in each state\n",
    "for i in states['results']:\n",
    "    if i['id']!=\"FIPS:11\": #breaks on District of Columbia(FIPS:11)? skipping it\n",
    "        #print(i['name'])\n",
    "        datasetid='GSOY' #Global Summary of the Year, contains a yearly resolution of meteorological elements \n",
    "        datatypeid = \"TAVG\" #TAVG TMAX TMIN\n",
    "        locationid=i['id'] #assigning state id which returns all weather stations in its boundry\n",
    "        units='standard' #standard or metric\n",
    "        startdate=\"2021-01-01\"\n",
    "        enddate=\"2021-12-31\" #code cant handle more then one year at a time\n",
    "        limit=\"1000\" #max is 1000, default is 25\n",
    "\n",
    "        #make the api call\n",
    "        url= f\"https://www.ncdc.noaa.gov/cdo-web/api/v2/data?datasetid={datasetid}&datatypeid={datatypeid}&locationid={locationid}&units={units}&startdate={startdate}&enddate={enddate}&limit={limit}\"\n",
    "        r = requests.get(url, \"dataset\", headers = headers).text\n",
    "        response = json.loads(r)\n",
    "        \n",
    "        #get the temp from each weather station, add them up then find average\n",
    "        tavg=0\n",
    "        for i in response['results']:\n",
    "            #print(i['value']) #print value from each station\n",
    "            tavg += i['value'] \n",
    "        tavg = tavg/len(response['results'])\n",
    "        #print (tavg)\n",
    "        \n",
    "        time.sleep(5) #api allows up to 5 requests per second but seems to hang sometimes, limiting to 1 per second\n",
    "        weather_data.append({\"State\": state,\n",
    "                     \"Average Temp (2021)\": tavg})\n",
    "'''"
   ]
  },
  {
   "cell_type": "markdown",
   "id": "3a236f5c",
   "metadata": {},
   "source": [
    "More Efficient Code<br>\n",
    "This code was written with the assistance of an AI language model.<br>\n",
    "Using the base of the previous code, the \"concurrent.futures\" module allows for multiple API requests simultaneously, as opposed to running a \"for\" loop through thousands of rows.<br>\n",
    "Code has a better success rate, although not 100%."
   ]
  },
  {
   "cell_type": "code",
   "execution_count": null,
   "id": "b58a649a",
   "metadata": {},
   "outputs": [],
   "source": [
    "#define function to fetch temperature data per state\n",
    "def fetch_temperature_data(state):\n",
    "    #existing code from original\n",
    "    #define variables with NOAA specific calls\n",
    "    datasetid = 'GSOY' #Global Summary of Year\n",
    "    datatypeid = 'TAVG' #Average Temperature\n",
    "    locationid = state['id'] #State ID\n",
    "    units = 'standard' #Units for Temperature (F)\n",
    "    startdate = '2021-01-01' #Start Date of Requested Data\n",
    "    enddate = '2021-12-31' #End Date of Requested Data (going over entire year breaks code)\n",
    "    limit = '1000' #Limit for Data \n",
    "    \n",
    "    #NOAA url with embedded variables\n",
    "    url = f\"https://www.ncdc.noaa.gov/cdo-web/api/v2/data?datasetid={datasetid}&datatypeid={datatypeid}&locationid={locationid}&units={units}&startdate={startdate}&enddate={enddate}&limit={limit}\"\n",
    "    #API request and store data\n",
    "    r = requests.get(url, headers=headers).text\n",
    "    response = json.loads(r)\n",
    "    \n",
    "    #set temp avg at 0\n",
    "    tavg = 0\n",
    "    if \"results\" in response:\n",
    "        #run through results and gather temperature values \n",
    "        for result in response['results']:\n",
    "            tavg += result['value']\n",
    "        #find avg of all NOAA stations' temp data per state\n",
    "        tavg = tavg / len(response['results'])\n",
    "    else:\n",
    "        tavg=None\n",
    "    time.sleep(1)  # Limit request per second\n",
    "    \n",
    "    #return dictionary with state name and average temperature\n",
    "    return {\"State\": state['name'], \"Average Temp (F)\": tavg}\n",
    "\n",
    "#main script\n",
    "if __name__ == '__main__':\n",
    "    # get state information and store in \"states\" variable\n",
    "    state_url = \"https://www.ncei.noaa.gov/cdo-web/api/v2/locations?locationcategoryid=ST&limit=52\"\n",
    "    state_response = requests.get(state_url, headers=headers).text\n",
    "    states = json.loads(state_response)['results']\n",
    "\n",
    "    # ThreadPoolExecutor used to fetch temperature data for each state concurrently\n",
    "    # adjust max_workers (number of simultaneous requests) as needed\n",
    "    with ThreadPoolExecutor(max_workers=3) as executor:  \n",
    "        weather_data = list(executor.map(fetch_temperature_data, states))\n",
    "\n",
    "    # weather_data now contains the temperature data for all states"
   ]
  },
  {
   "cell_type": "code",
   "execution_count": null,
   "id": "339a36d2",
   "metadata": {},
   "outputs": [],
   "source": [
    "#ensure data pulled successfully and create df\n",
    "weather_data_df = pd.DataFrame(weather_data)\n",
    "weather_data_df.head()"
   ]
  },
  {
   "cell_type": "code",
   "execution_count": null,
   "id": "56f86b94",
   "metadata": {
    "scrolled": false
   },
   "outputs": [],
   "source": [
    "#save to csv for merging\n",
    "weather_data_df.to_csv(\"weather.csv\", index_label=\"State ID\")\n",
    "#read weather csv into code\n",
    "weather_data = (\"weather.csv\")\n",
    "weather_data = pd.read_csv(weather_data)"
   ]
  },
  {
   "cell_type": "code",
   "execution_count": null,
   "id": "6507a761",
   "metadata": {},
   "outputs": [],
   "source": [
    "#merge all csv files for following analyses\n",
    "homeless_weather=pd.merge(homeless_data, weather_data_df, how=\"outer\", on=[\"State\"])\n",
    "homeless_weather_sheltered=pd.merge(homeless_weather, sheltered_data, how=\"outer\", on=[\"State\"])\n",
    "#homeless_weather_sheltered_severe = \"hwss\"\n",
    "hwss=pd.merge(homeless_weather_sheltered, severe_weather_data, how=\"outer\", on=[\"State\"])\n",
    "#remove \"NaN\" results (District of Columbia). Weather code didn't like DC\n",
    "hwss=hwss.dropna()\n",
    "#reset \"states\" variable to hold only wanted values (no NaN)\n",
    "states=hwss[\"State\"]\n",
    "hwss.head()"
   ]
  },
  {
   "cell_type": "markdown",
   "id": "85c69e75",
   "metadata": {},
   "source": [
    "# <center> Merged Data Reasoning\n",
    "The following datasets will compare homelessness per capita to the average temperature of the corresponding US state. To include \"total\" homless population as opposed to \"per capita\", could result in skewed data."
   ]
  },
  {
   "cell_type": "code",
   "execution_count": null,
   "id": "c4bf000c",
   "metadata": {},
   "outputs": [],
   "source": [
    "#create df containing pertinent information\n",
    "data = {\n",
    "    \"State\":hwss[\"State\"],\n",
    "    \"Total Homeless Population\":hwss[\"Total\"],\n",
    "    \"Homeless Per 10k Residents\":hwss[\"Per10kResidents\"],\n",
    "    \"Average Temp (F)\":hwss[\"Average Temp (F)\"]}\n",
    "homeless_temp = pd.DataFrame(data)\n",
    "homeless_temp.head()"
   ]
  },
  {
   "cell_type": "markdown",
   "id": "7993f058",
   "metadata": {},
   "source": [
    "# <center> Scatter Plot and Linear Regression of Data\n",
    "    The charts below display the relationship between a US state's average temperature and the homeless population per capita."
   ]
  },
  {
   "cell_type": "code",
   "execution_count": null,
   "id": "6a073fb8",
   "metadata": {},
   "outputs": [],
   "source": [
    "#create scatter plot to display data\n",
    "plt.scatter(\n",
    "    homeless_temp[\"Average Temp (F)\"],\n",
    "    homeless_temp[\"Homeless Per 10k Residents\"],\n",
    "    edgecolor=\"black\",\n",
    "    linewidths=1,\n",
    "    marker=\"*\",\n",
    "    alpha=0.8\n",
    ")\n",
    "\n",
    "plt.title(\"Comparison of State Average Temperature to Homeless Population (Per 10,000 Residents)\")\n",
    "plt.xlabel(\"Average Temperature (F)\")\n",
    "plt.ylabel(\"Homeless Population (Per 10K Residents)\")\n",
    "plt.grid(True)\n",
    "plt.show()"
   ]
  },
  {
   "cell_type": "code",
   "execution_count": null,
   "id": "0bdf2ca5",
   "metadata": {},
   "outputs": [],
   "source": [
    "#line regression (correlation) code\n",
    "def plot_linear_regression(x_values, y_values, x_axis, title, text_coordinates):\n",
    "    \n",
    "    # Compute linear regression\n",
    "    (slope, intercept, rvalue, pvalue, sterr) = linregress(x_values, y_values)\n",
    "    regress_values = x_values * slope + intercept\n",
    "    line_eq = \"y = \" + str(round(slope,2)) + \"x + \" + str(round(intercept,2))\n",
    "\n",
    "    # Plot\n",
    "    plt.scatter(x_values,y_values, marker=\"*\")\n",
    "    plt.plot(x_values,regress_values,\"r-\")\n",
    "    plt.annotate(line_eq,text_coordinates,fontsize=15,color=\"black\")\n",
    "    plt.xlabel(x_axis)\n",
    "    plt.ylabel(title)\n",
    "    print(f\"The r² value is: {rvalue**2}\")\n",
    "    print(f\"The r value is: {rvalue}\")\n",
    "    print(f\"The p value is: {pvalue}\")\n",
    "    plt.grid(True)\n",
    "    plt.show()"
   ]
  },
  {
   "cell_type": "code",
   "execution_count": null,
   "id": "3c515d7a",
   "metadata": {
    "scrolled": false
   },
   "outputs": [],
   "source": [
    "#correlation (or lack of) of data\n",
    "x_values = homeless_temp[\"Average Temp (F)\"]\n",
    "y_values = homeless_temp[\"Homeless Per 10k Residents\"]\n",
    "plot_linear_regression(x_values, y_values, \"Average Temperature (F)\", \"Homeless Population (Per 10K Residents)\", (30,25))"
   ]
  },
  {
   "cell_type": "markdown",
   "id": "11433407",
   "metadata": {},
   "source": [
    "#\n",
    "As the linear regression analysis shows, there is a negative correlation between a state's average temperature and it's homeless population per capita. This result suggests that, on average, states with a higher average temperature tend to have a lower homeless population per capita."
   ]
  },
  {
   "cell_type": "code",
   "execution_count": null,
   "id": "8f2bf95c",
   "metadata": {},
   "outputs": [],
   "source": [
    "plt.figure(figsize=(12,6))\n",
    "x=range(len(states))\n",
    "width=0.4\n",
    "\n",
    "#create bar graph to show side by side comparison of homeless population (per capita) and average temperature per state \n",
    "plt.bar(x, homeless_temp[\"Homeless Per 10k Residents\"], width, label = \"Homeless Population (Per 10,000 Residents)\")\n",
    "plt.bar([i+width for i in x], homeless_temp[\"Average Temp (F)\"], width, label = \"Average Temperature (F)\")\n",
    "plt.title(\"Comparison of State Average Temperature and Homeless Population (Per 10,000 Residents)\")\n",
    "plt.xlabel(\"State\")\n",
    "#label on y-axis unnecessary with provided legend \n",
    "plt.ylabel(\"\")\n",
    "#make state names readable by changing rotation\n",
    "plt.xticks([i+width/4 for i in x], states, rotation=\"vertical\")\n",
    "plt.legend()\n",
    "plt.grid(True)\n",
    "plt.show()"
   ]
  },
  {
   "cell_type": "markdown",
   "id": "72a91d9c",
   "metadata": {},
   "source": [
    "# <center> Weather Findings\n",
    "This analysis provides insight into the variation of average temperatures and homeless populations across the US states. The findings of this analysis do show a negative correlation between the two variables, but it is important to note that not all mitigating factors have been explored. Further investigation into severe climate instances, available housing, state-specific legislation, etc. would be needed to determine a comprehensive and conclusive result."
   ]
  },
  {
   "cell_type": "markdown",
   "id": "993e459d",
   "metadata": {},
   "source": [
    "# Severe Weather Analysis"
   ]
  },
  {
   "cell_type": "code",
   "execution_count": null,
   "id": "d69101e4",
   "metadata": {},
   "outputs": [],
   "source": [
    "#create df conatining pertinent information and clean up headers\n",
    "data = {\n",
    "    \"State\":hwss[\"State\"],\n",
    "    \"Total Homeless Population\":hwss[\"Total\"],\n",
    "    \"Sheltered Homeless Population\":hwss[\"sheltered homeless population\"],\n",
    "    \"Homeless Per 10k Residents\":hwss[\"Per10kResidents\"],\n",
    "    \"Severe Heat (Days per Year)\":hwss[\"days over 90F\"],\n",
    "    \"Harsh Winter\":hwss[\"Harsh Winter\"]\n",
    "}\n",
    "homeless_weather_merged_df = pd.DataFrame(data)\n",
    "#create ShelteredPer10k column to calculate sheltered homeless population per 10,000 residents\n",
    "homeless_weather_merged_df['Sheltered Per 10k Residents'] = \\\n",
    "    hwss['Per10kResidents'] * hwss['sheltered homeless population'] / hwss['Total']\n",
    "#move columns around\n",
    "homeless_weather_merged_df=homeless_weather_merged_df[[\"State\", \"Total Homeless Population\", \"Homeless Per 10k Residents\", \"Sheltered Per 10k Residents\", \"Severe Heat (Days per Year)\", \"Harsh Winter\"]]\n",
    "#ensure data pulled and calculated correctly\n",
    "homeless_weather_merged_df.head()"
   ]
  },
  {
   "cell_type": "code",
   "execution_count": null,
   "id": "4c7ff714",
   "metadata": {},
   "outputs": [],
   "source": [
    "x_values = homeless_weather_merged_df[\"Sheltered Per 10k Residents\"]\n",
    "y_values = homeless_weather_merged_df[\"Homeless Per 10k Residents\"]\n",
    "plot_linear_regression(x_values, y_values, \"Sheltered Population per 10,000 Residents\", \"Homeless Population per 10,000 Residents\", (20,15))"
   ]
  },
  {
   "cell_type": "code",
   "execution_count": null,
   "id": "5692d25d",
   "metadata": {},
   "outputs": [],
   "source": [
    "x_values = homeless_weather_merged_df[\"Sheltered Per 10k Residents\"]\n",
    "y_values = homeless_weather_merged_df[\"Severe Heat (Days per Year)\"]\n",
    "plot_linear_regression(x_values, y_values, \"Sheltered Population per 10,000 Residents\", \"Days over 90F (2021)\", (20, 50))"
   ]
  },
  {
   "cell_type": "code",
   "execution_count": null,
   "id": "b065b529",
   "metadata": {},
   "outputs": [],
   "source": [
    "harsh_winter= hwss.groupby(\"Harsh Winter\")[\"percentage of homeless population that is sheltered\"].mean()\n",
    "harsh_winter"
   ]
  },
  {
   "cell_type": "code",
   "execution_count": null,
   "id": "c0dca993",
   "metadata": {},
   "outputs": [],
   "source": [
    "harsh_winter.plot(kind=\"bar\")\n",
    "plt.xlabel('Harsh Winter')\n",
    "plt.ylabel('Percent of Population Sheltered')\n",
    "plt.title('Do harsh winters require more shelters?')\n",
    "plt.show()"
   ]
  },
  {
   "cell_type": "code",
   "execution_count": null,
   "id": "4a0bf3bb",
   "metadata": {},
   "outputs": [],
   "source": []
  }
 ],
 "metadata": {
  "kernelspec": {
   "display_name": "Python 3 (ipykernel)",
   "language": "python",
   "name": "python3"
  },
  "language_info": {
   "codemirror_mode": {
    "name": "ipython",
    "version": 3
   },
   "file_extension": ".py",
   "mimetype": "text/x-python",
   "name": "python",
   "nbconvert_exporter": "python",
   "pygments_lexer": "ipython3",
   "version": "3.11.5"
  }
 },
 "nbformat": 4,
 "nbformat_minor": 5
}
